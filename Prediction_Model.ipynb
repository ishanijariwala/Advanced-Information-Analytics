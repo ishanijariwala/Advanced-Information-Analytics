{
 "cells": [
  {
   "cell_type": "markdown",
   "metadata": {},
   "source": [
    "Importing relevant libraries"
   ]
  },
  {
   "cell_type": "code",
   "execution_count": 2,
   "metadata": {
    "collapsed": true
   },
   "outputs": [],
   "source": [
    "import pandas as pd\n",
    "import numpy as np\n",
    "from pandas import DataFrame, Series"
   ]
  },
  {
   "cell_type": "code",
   "execution_count": 3,
   "metadata": {
    "collapsed": true
   },
   "outputs": [],
   "source": [
    "%matplotlib inline\n",
    "import seaborn as sns\n",
    "sns.set_style(\"white\")\n",
    "import matplotlib as mpl\n",
    "import matplotlib.pyplot as plt\n",
    "import warnings\n",
    "warnings.filterwarnings(\"ignore\")"
   ]
  },
  {
   "cell_type": "markdown",
   "metadata": {},
   "source": [
    "Loading data into Pandas, renaming the columns"
   ]
  },
  {
   "cell_type": "code",
   "execution_count": 4,
   "metadata": {
    "collapsed": false
   },
   "outputs": [
    {
     "data": {
      "text/html": [
       "<div>\n",
       "<table border=\"1\" class=\"dataframe\">\n",
       "  <thead>\n",
       "    <tr style=\"text-align: right;\">\n",
       "      <th></th>\n",
       "      <th>CustId</th>\n",
       "      <th>Limit</th>\n",
       "      <th>Sex</th>\n",
       "      <th>Edu</th>\n",
       "      <th>Marital_Status</th>\n",
       "      <th>Age</th>\n",
       "      <th>Repay_Sep</th>\n",
       "      <th>Repay_Aug</th>\n",
       "      <th>Repay_Jul</th>\n",
       "      <th>Repay_Jun</th>\n",
       "      <th>...</th>\n",
       "      <th>Bill_Jun</th>\n",
       "      <th>Bill_May</th>\n",
       "      <th>Bill_Apr</th>\n",
       "      <th>Pay_Sep</th>\n",
       "      <th>Pay_Aug</th>\n",
       "      <th>Pay_Jul</th>\n",
       "      <th>Pay_Jun</th>\n",
       "      <th>Pay_May</th>\n",
       "      <th>Pay_Apr</th>\n",
       "      <th>Default_Nxt_Mnth</th>\n",
       "    </tr>\n",
       "  </thead>\n",
       "  <tbody>\n",
       "    <tr>\n",
       "      <th>1</th>\n",
       "      <td>1</td>\n",
       "      <td>20000</td>\n",
       "      <td>2</td>\n",
       "      <td>2</td>\n",
       "      <td>1</td>\n",
       "      <td>24</td>\n",
       "      <td>2</td>\n",
       "      <td>2</td>\n",
       "      <td>-1</td>\n",
       "      <td>-1</td>\n",
       "      <td>...</td>\n",
       "      <td>0</td>\n",
       "      <td>0</td>\n",
       "      <td>0</td>\n",
       "      <td>0</td>\n",
       "      <td>689</td>\n",
       "      <td>0</td>\n",
       "      <td>0</td>\n",
       "      <td>0</td>\n",
       "      <td>0</td>\n",
       "      <td>1</td>\n",
       "    </tr>\n",
       "    <tr>\n",
       "      <th>2</th>\n",
       "      <td>2</td>\n",
       "      <td>120000</td>\n",
       "      <td>2</td>\n",
       "      <td>2</td>\n",
       "      <td>2</td>\n",
       "      <td>26</td>\n",
       "      <td>-1</td>\n",
       "      <td>2</td>\n",
       "      <td>0</td>\n",
       "      <td>0</td>\n",
       "      <td>...</td>\n",
       "      <td>3272</td>\n",
       "      <td>3455</td>\n",
       "      <td>3261</td>\n",
       "      <td>0</td>\n",
       "      <td>1000</td>\n",
       "      <td>1000</td>\n",
       "      <td>1000</td>\n",
       "      <td>0</td>\n",
       "      <td>2000</td>\n",
       "      <td>1</td>\n",
       "    </tr>\n",
       "    <tr>\n",
       "      <th>3</th>\n",
       "      <td>3</td>\n",
       "      <td>90000</td>\n",
       "      <td>2</td>\n",
       "      <td>2</td>\n",
       "      <td>2</td>\n",
       "      <td>34</td>\n",
       "      <td>0</td>\n",
       "      <td>0</td>\n",
       "      <td>0</td>\n",
       "      <td>0</td>\n",
       "      <td>...</td>\n",
       "      <td>14331</td>\n",
       "      <td>14948</td>\n",
       "      <td>15549</td>\n",
       "      <td>1518</td>\n",
       "      <td>1500</td>\n",
       "      <td>1000</td>\n",
       "      <td>1000</td>\n",
       "      <td>1000</td>\n",
       "      <td>5000</td>\n",
       "      <td>0</td>\n",
       "    </tr>\n",
       "    <tr>\n",
       "      <th>4</th>\n",
       "      <td>4</td>\n",
       "      <td>50000</td>\n",
       "      <td>2</td>\n",
       "      <td>2</td>\n",
       "      <td>1</td>\n",
       "      <td>37</td>\n",
       "      <td>0</td>\n",
       "      <td>0</td>\n",
       "      <td>0</td>\n",
       "      <td>0</td>\n",
       "      <td>...</td>\n",
       "      <td>28314</td>\n",
       "      <td>28959</td>\n",
       "      <td>29547</td>\n",
       "      <td>2000</td>\n",
       "      <td>2019</td>\n",
       "      <td>1200</td>\n",
       "      <td>1100</td>\n",
       "      <td>1069</td>\n",
       "      <td>1000</td>\n",
       "      <td>0</td>\n",
       "    </tr>\n",
       "    <tr>\n",
       "      <th>5</th>\n",
       "      <td>5</td>\n",
       "      <td>50000</td>\n",
       "      <td>1</td>\n",
       "      <td>2</td>\n",
       "      <td>1</td>\n",
       "      <td>57</td>\n",
       "      <td>-1</td>\n",
       "      <td>0</td>\n",
       "      <td>-1</td>\n",
       "      <td>0</td>\n",
       "      <td>...</td>\n",
       "      <td>20940</td>\n",
       "      <td>19146</td>\n",
       "      <td>19131</td>\n",
       "      <td>2000</td>\n",
       "      <td>36681</td>\n",
       "      <td>10000</td>\n",
       "      <td>9000</td>\n",
       "      <td>689</td>\n",
       "      <td>679</td>\n",
       "      <td>0</td>\n",
       "    </tr>\n",
       "  </tbody>\n",
       "</table>\n",
       "<p>5 rows × 25 columns</p>\n",
       "</div>"
      ],
      "text/plain": [
       "  CustId   Limit Sex Edu Marital_Status Age Repay_Sep Repay_Aug Repay_Jul  \\\n",
       "1      1   20000   2   2              1  24         2         2        -1   \n",
       "2      2  120000   2   2              2  26        -1         2         0   \n",
       "3      3   90000   2   2              2  34         0         0         0   \n",
       "4      4   50000   2   2              1  37         0         0         0   \n",
       "5      5   50000   1   2              1  57        -1         0        -1   \n",
       "\n",
       "  Repay_Jun       ...        Bill_Jun Bill_May Bill_Apr Pay_Sep Pay_Aug  \\\n",
       "1        -1       ...               0        0        0       0     689   \n",
       "2         0       ...            3272     3455     3261       0    1000   \n",
       "3         0       ...           14331    14948    15549    1518    1500   \n",
       "4         0       ...           28314    28959    29547    2000    2019   \n",
       "5         0       ...           20940    19146    19131    2000   36681   \n",
       "\n",
       "  Pay_Jul Pay_Jun Pay_May Pay_Apr Default_Nxt_Mnth  \n",
       "1       0       0       0       0                1  \n",
       "2    1000    1000       0    2000                1  \n",
       "3    1000    1000    1000    5000                0  \n",
       "4    1200    1100    1069    1000                0  \n",
       "5   10000    9000     689     679                0  \n",
       "\n",
       "[5 rows x 25 columns]"
      ]
     },
     "execution_count": 4,
     "metadata": {},
     "output_type": "execute_result"
    }
   ],
   "source": [
    "cc = pd.read_csv('UCI_Credit_Card.csv', header=None,\n",
    "                  names=['CustId','Limit','Sex','Edu','Marital_Status','Age','Repay_Sep','Repay_Aug','Repay_Jul','Repay_Jun',\n",
    "                        'Repay_May','Repay_Apr','Bill_Sep','Bill_Aug','Bill_Jul','Bill_Jun','Bill_May','Bill_Apr','Pay_Sep',\n",
    "                        'Pay_Aug','Pay_Jul','Pay_Jun','Pay_May','Pay_Apr','Default_Nxt_Mnth'])\n",
    "cc_data = cc[cc.Sex != 'SEX']\n",
    "cc_data.head(5)"
   ]
  },
  {
   "cell_type": "markdown",
   "metadata": {},
   "source": [
    "Dividing the dataset into features and labels - eliminating unique identifier"
   ]
  },
  {
   "cell_type": "code",
   "execution_count": 5,
   "metadata": {
    "collapsed": false
   },
   "outputs": [
    {
     "name": "stdout",
     "output_type": "stream",
     "text": [
      "Number of observations: 30000\n",
      "Number of features 23\n"
     ]
    }
   ],
   "source": [
    "#Dividing the data into X and Y\n",
    "cc_data = cc_data.apply(lambda x: pd.to_numeric(x, errors='ignore'))\n",
    "cc_features = pd.DataFrame(cc_data.iloc[:,1 :-1].as_matrix(),\n",
    "                 columns = ['Limit','Sex','Edu','Marital_Status','Age','Repay_Sep','Repay_Aug','Repay_Jul','Repay_Jun',\n",
    "                        'Repay_May','Repay_Apr','Bill_Sep','Bill_Aug','Bill_Jul','Bill_Jun','Bill_May','Bill_Apr','Pay_Sep',\n",
    "                        'Pay_Aug','Pay_Jul','Pay_Jun','Pay_May','Pay_Apr'])\n",
    "cc_labels = pd.DataFrame(cc_data.iloc[:, [-1]].as_matrix(), \n",
    "                 columns=['Default_Nxt_Mnth'])\n",
    "cc_features_labels = pd.concat((cc_features, cc_labels), axis=1)\n",
    "print (\"Number of observations: {}\\nNumber of features {}\".\\\n",
    "    format(cc_features.shape[0], cc_features.shape[1]))"
   ]
  },
  {
   "cell_type": "code",
   "execution_count": 6,
   "metadata": {
    "collapsed": false
   },
   "outputs": [
    {
     "name": "stderr",
     "output_type": "stream",
     "text": [
      "/home/deacuna/anaconda3/lib/python3.5/site-packages/sklearn/cross_validation.py:44: DeprecationWarning: This module was deprecated in version 0.18 in favor of the model_selection module into which all the refactored classes and functions are moved. Also note that the interface of the new CV iterators are different from that of this module. This module will be removed in 0.20.\n",
      "  \"This module will be removed in 0.20.\", DeprecationWarning)\n"
     ]
    }
   ],
   "source": [
    "from sklearn.linear_model import LinearRegression\n",
    "from sklearn.cross_validation import train_test_split"
   ]
  },
  {
   "cell_type": "markdown",
   "metadata": {},
   "source": [
    "Spliting the data into 72% Train, 18%validation and 10% test"
   ]
  },
  {
   "cell_type": "code",
   "execution_count": 7,
   "metadata": {
    "collapsed": true
   },
   "outputs": [],
   "source": [
    "#Split into train_validation & Test - 90% 10% respectively\n",
    "cc_train_validation, cc_test, cc_label_train_validation, cc_label_test = train_test_split(cc_features, \n",
    "                                                                                          cc_labels, \n",
    "                                                                                          test_size = 0.1, \n",
    "                                                                                          random_state = 0)"
   ]
  },
  {
   "cell_type": "code",
   "execution_count": 8,
   "metadata": {
    "collapsed": true
   },
   "outputs": [],
   "source": [
    "#Split the train validation 80% 20%\n",
    "cc_train, cc_validation, cc_label_train, cc_label_validation = train_test_split(cc_train_validation, \n",
    "                                                                cc_label_train_validation, \n",
    "                                                                test_size = 0.2, \n",
    "                                                                random_state = 0)\n"
   ]
  },
  {
   "cell_type": "markdown",
   "metadata": {},
   "source": [
    "Identifying the K best correlated features by using null to full method"
   ]
  },
  {
   "cell_type": "code",
   "execution_count": 9,
   "metadata": {
    "collapsed": false
   },
   "outputs": [
    {
     "name": "stdout",
     "output_type": "stream",
     "text": [
      "Selecting  Index(['Repay_Sep'], dtype='object')\n",
      "Selecting  Index(['Bill_Sep'], dtype='object')\n",
      "Selecting  Index(['Repay_Aug'], dtype='object')\n",
      "Selecting  Index(['Age'], dtype='object')\n",
      "Selecting  Index(['Sex'], dtype='object')\n",
      "Selecting  Index(['Marital_Status'], dtype='object')\n",
      "Selecting  Index(['Edu'], dtype='object')\n",
      "Selecting  Index(['Pay_May'], dtype='object')\n",
      "Selecting  Index(['Repay_Jun'], dtype='object')\n",
      "Selecting  Index(['Pay_Sep'], dtype='object')\n",
      "Selecting  Index(['Limit'], dtype='object')\n",
      "Selecting  Index(['Repay_Apr'], dtype='object')\n"
     ]
    }
   ],
   "source": [
    "# Identify best K features using null to full method\n",
    "current_MSE = ((cc_label_train - cc_label_train.mean())**2).mean()[0] #Initial MSE\n",
    "current_model_vars = set() #Initial set of variables used\n",
    "p = cc_train.shape[1] #Number of features 23\n",
    "\n",
    "for k in range(p):\n",
    "    possible_next_vars = list(set(range(p)) - current_model_vars)\n",
    "    next_model_vars = current_model_vars\n",
    "    for next_var in possible_next_vars:\n",
    "        list(current_model_vars) + [next_var]\n",
    "        model = LinearRegression().fit(cc_train.iloc[:, list(current_model_vars) + [next_var]], cc_label_train)\n",
    "        model_validation_err = \\\n",
    "        ((model.predict(cc_validation.iloc[:, list(current_model_vars) + [next_var]]) - cc_label_validation)**2).mean()[0]\n",
    "        if model_validation_err < current_MSE:\n",
    "            next_model_vars = current_model_vars.union(set([next_var]))\n",
    "            current_MSE = model_validation_err\n",
    "    if next_model_vars == current_model_vars:\n",
    "        break\n",
    "    else:        \n",
    "        print(\"Selecting \", str(cc_train.columns[list(next_model_vars - current_model_vars)]))\n",
    "        current_model_vars = next_model_vars\n"
   ]
  },
  {
   "cell_type": "code",
   "execution_count": 10,
   "metadata": {
    "collapsed": false
   },
   "outputs": [
    {
     "data": {
      "text/plain": [
       "Index(['Limit', 'Sex', 'Edu', 'Marital_Status', 'Age', 'Repay_Sep',\n",
       "       'Repay_Aug', 'Repay_Jun', 'Repay_Apr', 'Bill_Sep', 'Pay_Sep',\n",
       "       'Pay_May'],\n",
       "      dtype='object')"
      ]
     },
     "execution_count": 10,
     "metadata": {},
     "output_type": "execute_result"
    }
   ],
   "source": [
    "#Final set of features - Repay_Sep, Bill_Sep, Repay_Aug, Repay_Jun, Repay_Apr,Age,Sex,Marital_Status,Edu,Pay_May,Pay_Sep,Limit\n",
    "cc_train.columns[list(current_model_vars)]"
   ]
  },
  {
   "cell_type": "markdown",
   "metadata": {},
   "source": [
    "Kick off machine learning with linear regression"
   ]
  },
  {
   "cell_type": "code",
   "execution_count": 11,
   "metadata": {
    "collapsed": false
   },
   "outputs": [
    {
     "data": {
      "text/plain": [
       "0.14679280736476286"
      ]
     },
     "execution_count": 11,
     "metadata": {},
     "output_type": "execute_result"
    }
   ],
   "source": [
    "#MSE for linear regression\n",
    "linear_model = LinearRegression().fit(cc_train.iloc[:, list(current_model_vars)], cc_label_train)\n",
    "((linear_model.predict(cc_test.iloc[:, list(current_model_vars)]) - cc_label_test)**2).mean()[0]"
   ]
  },
  {
   "cell_type": "code",
   "execution_count": 12,
   "metadata": {
    "collapsed": true
   },
   "outputs": [],
   "source": [
    "from sklearn.preprocessing import PolynomialFeatures, StandardScaler\n",
    "from sklearn.neighbors import KNeighborsRegressor"
   ]
  },
  {
   "cell_type": "markdown",
   "metadata": {},
   "source": [
    "Create sets of features using the 12 best correlated features"
   ]
  },
  {
   "cell_type": "code",
   "execution_count": 13,
   "metadata": {
    "collapsed": false
   },
   "outputs": [
    {
     "data": {
      "text/plain": [
       "91"
      ]
     },
     "execution_count": 13,
     "metadata": {},
     "output_type": "execute_result"
    }
   ],
   "source": [
    "# We will create spurious features\n",
    "cc_features_poly = StandardScaler().fit_transform(PolynomialFeatures(degree=2).fit_transform(cc_features.iloc[:, list(current_model_vars)]))\n",
    "cc_features_poly.shape[1]"
   ]
  },
  {
   "cell_type": "markdown",
   "metadata": {},
   "source": [
    "Finding the best suited feature set"
   ]
  },
  {
   "cell_type": "code",
   "execution_count": 14,
   "metadata": {
    "collapsed": false
   },
   "outputs": [],
   "source": [
    "#Cross validation for train and test\n",
    "all_mse_train = []\n",
    "all_mse_test = []\n",
    "for _ in range(10):\n",
    "    cc1_train, cc1_test, cc_label1_train, cc_label1_test = train_test_split(cc_features_poly, cc_labels.as_matrix(), test_size = 0.1)\n",
    "    mse_train = []\n",
    "    mse_test = []\n",
    "    for k in range(cc1_train.shape[1]):\n",
    "        idx_vars = np.random.choice(range(cc1_train.shape[1]), size=k+1)\n",
    "        lm = LinearRegression().fit(cc1_train[:, idx_vars], cc_label1_train)\n",
    "        mse_train.append(((cc_label1_train - lm.predict(cc1_train[:, idx_vars]))**2).mean())\n",
    "        mse_test.append(((cc_label1_test - lm.predict(cc1_test[:, idx_vars]))**2).mean())\n",
    "    all_mse_train.append(mse_train)\n",
    "    all_mse_test.append(mse_test)\n",
    "all_mse_train = np.array(all_mse_train)\n",
    "all_mse_test = np.array(all_mse_test)"
   ]
  },
  {
   "cell_type": "code",
   "execution_count": 15,
   "metadata": {
    "collapsed": false
   },
   "outputs": [
    {
     "data": {
      "image/png": "[encoded data removed]",
      "text/plain": [
       "<matplotlib.figure.Figure at 0x7efe4a06ce10>"
      ]
     },
     "metadata": {},
     "output_type": "display_data"
    }
   ],
   "source": [
    "plt.plot(range(cc1_train.shape[1]), all_mse_train.mean(0), label='train');\n",
    "plt.plot(range(cc1_train.shape[1]), all_mse_test.mean(0), label='test');\n",
    "plt.legend();\n",
    "plt.xlabel('variables');\n",
    "plt.ylabel('MSE');"
   ]
  },
  {
   "cell_type": "code",
   "execution_count": 16,
   "metadata": {
    "collapsed": false
   },
   "outputs": [
    {
     "name": "stderr",
     "output_type": "stream",
     "text": [
      "/home/deacuna/anaconda3/lib/python3.5/site-packages/sklearn/learning_curve.py:23: DeprecationWarning: This module was deprecated in version 0.18 in favor of the model_selection module into which all the functions are moved. This module will be removed in 0.20\n",
      "  DeprecationWarning)\n"
     ]
    }
   ],
   "source": [
    "from sklearn.learning_curve import learning_curve"
   ]
  },
  {
   "cell_type": "code",
   "execution_count": 17,
   "metadata": {
    "collapsed": true
   },
   "outputs": [],
   "source": [
    "def MSE_score(estimator, X, y):\n",
    "    return ((estimator.predict(X) - y)**2).mean()[0]"
   ]
  },
  {
   "cell_type": "markdown",
   "metadata": {},
   "source": [
    "Identifying optimum train size"
   ]
  },
  {
   "cell_type": "code",
   "execution_count": 18,
   "metadata": {
    "collapsed": false
   },
   "outputs": [],
   "source": [
    "train_sizes, train_scores, valid_scores = learning_curve(LinearRegression(), cc_features.iloc[:, list(current_model_vars)], cc_labels, scoring=MSE_score, cv  = 10)"
   ]
  },
  {
   "cell_type": "code",
   "execution_count": 19,
   "metadata": {
    "collapsed": false
   },
   "outputs": [
    {
     "data": {
      "image/png": "[encoded data removed]",
      "text/plain": [
       "<matplotlib.figure.Figure at 0x7efe4a05cef0>"
      ]
     },
     "metadata": {},
     "output_type": "display_data"
    }
   ],
   "source": [
    "#Optimum train size 85%\n",
    "plt.plot(train_sizes, train_scores.mean(1), 'b--', label='train (12 features)');\n",
    "plt.plot(train_sizes, valid_scores.mean(1), 'g--', label='test (12 features)');\n",
    "plt.legend();\n",
    "plt.xlabel('training size');\n",
    "plt.ylabel('MSE');"
   ]
  },
  {
   "cell_type": "code",
   "execution_count": 20,
   "metadata": {
    "collapsed": true
   },
   "outputs": [],
   "source": [
    "from sklearn.cross_validation import cross_val_score, ShuffleSplit\n",
    "from sklearn.feature_selection import SelectKBest, f_regression\n",
    "from sklearn.ensemble import RandomForestRegressor\n",
    "from sklearn.metrics import mean_squared_error\n",
    "from sklearn import svm"
   ]
  },
  {
   "cell_type": "markdown",
   "metadata": {},
   "source": [
    "Another approach to get K best features"
   ]
  },
  {
   "cell_type": "code",
   "execution_count": 21,
   "metadata": {
    "collapsed": false
   },
   "outputs": [
    {
     "data": {
      "text/plain": [
       "12"
      ]
     },
     "execution_count": 21,
     "metadata": {},
     "output_type": "execute_result"
    }
   ],
   "source": [
    "#Selecting K Best features\n",
    "X_best = SelectKBest(f_regression, k=12).fit_transform(cc_features, cc_labels)\n",
    "X_best.shape[1]"
   ]
  },
  {
   "cell_type": "code",
   "execution_count": 22,
   "metadata": {
    "collapsed": true
   },
   "outputs": [],
   "source": [
    "from sklearn.neighbors import KNeighborsRegressor\n",
    "from sklearn import tree\n",
    "from sklearn.pipeline import Pipeline\n",
    "from sklearn.preprocessing import PolynomialFeatures\n",
    "from sklearn.linear_model import LinearRegression\n",
    "from sklearn.ensemble import RandomForestRegressor\n",
    "from sklearn import svm\n",
    "from sklearn.naive_bayes import GaussianNB\n",
    "from sklearn.cluster import KMeans"
   ]
  },
  {
   "cell_type": "markdown",
   "metadata": {},
   "source": [
    "Evaluating different models for Clasification - Supervised Machine Learning"
   ]
  },
  {
   "cell_type": "code",
   "execution_count": 23,
   "metadata": {
    "collapsed": true
   },
   "outputs": [],
   "source": [
    "nn3_model = KNeighborsRegressor(n_neighbors=3)\n",
    "nn5_model = KNeighborsRegressor(n_neighbors=5)\n",
    "nn7_model = KNeighborsRegressor(n_neighbors=7)\n",
    "nn9_model = KNeighborsRegressor(n_neighbors=9)\n",
    "decision_tree = tree.DecisionTreeRegressor()\n",
    "clf = svm.LinearSVC()\n",
    "rf = RandomForestRegressor()\n",
    "gnb = GaussianNB()\n",
    "kmean2_model = KMeans(n_clusters=2)\n",
    "kmean5_model = KMeans(n_clusters=5)\n",
    "kmean2_init_model = KMeans(n_clusters=2, n_init=1,init='random')"
   ]
  },
  {
   "cell_type": "code",
   "execution_count": 24,
   "metadata": {
    "collapsed": true
   },
   "outputs": [],
   "source": [
    "models = [ {'name' : '3-Nearest Neighbors', 'estimator' : nn3_model},\n",
    "          {'name' : '5-Nearest Neighbors', 'estimator' : nn5_model},\n",
    "          {'name' : '7-Nearest Neighbors', 'estimator' : nn7_model},\n",
    "          {'name' : '9-Nearest Neighbors', 'estimator' : nn9_model},\n",
    "          {'name' : 'KMeans 2 clusters', 'estimator' :kmean2_model},\n",
    "          {'name' : 'KMeans 2 Clusters init', 'estimator' : kmean2_init_model},\n",
    "          {'name' : 'Random Forest', 'estimator' : rf}\n",
    "         ]"
   ]
  },
  {
   "cell_type": "markdown",
   "metadata": {},
   "source": [
    "Using 12 best features"
   ]
  },
  {
   "cell_type": "code",
   "execution_count": 25,
   "metadata": {
    "collapsed": false
   },
   "outputs": [
    {
     "name": "stdout",
     "output_type": "stream",
     "text": [
      " 3-Nearest Neighbors Accuracy: -0.20 (+/- 0.05)\n",
      " 5-Nearest Neighbors Accuracy: -0.09 (+/- 0.06)\n",
      " 7-Nearest Neighbors Accuracy: -0.04 (+/- 0.05)\n",
      " 9-Nearest Neighbors Accuracy: -0.01 (+/- 0.05)\n",
      " KMeans 2 clusters Accuracy: -1.73 (+/- 0.64)\n",
      " KMeans 2 Clusters init Accuracy: -1.92 (+/- 0.66)\n",
      " Random Forest Accuracy: 0.09 (+/- 0.08)\n"
     ]
    }
   ],
   "source": [
    "#Giving K best features for model evaluation with respect to Accuracy - R2 scoring\n",
    "for model in models:\n",
    "    scores = cross_val_score(model['estimator'], X_best, cc_labels, cv=10, scoring='r2' )\n",
    "    print(\" %s Accuracy: %0.2f (+/- %0.2f)\" % (model['name'], scores.mean(), scores.std() * 2))"
   ]
  },
  {
   "cell_type": "markdown",
   "metadata": {},
   "source": [
    "Using all the features"
   ]
  },
  {
   "cell_type": "code",
   "execution_count": 26,
   "metadata": {
    "collapsed": false
   },
   "outputs": [
    {
     "name": "stdout",
     "output_type": "stream",
     "text": [
      " 3-Nearest Neighbors Accuracy: -0.24 (+/- 0.10)\n",
      " 5-Nearest Neighbors Accuracy: -0.12 (+/- 0.09)\n",
      " 7-Nearest Neighbors Accuracy: -0.07 (+/- 0.08)\n",
      " 9-Nearest Neighbors Accuracy: -0.05 (+/- 0.07)\n",
      " KMeans 2 clusters Accuracy: -2.15 (+/- 2.77)\n",
      " KMeans 2 Clusters init Accuracy: -1.63 (+/- 2.68)\n",
      " Random Forest Accuracy: 0.08 (+/- 0.09)\n"
     ]
    }
   ],
   "source": [
    "#Giving the validation data to evaluate model with respect to Accuracy - R2 scoring\n",
    "for model in models:\n",
    "    scores = cross_val_score(model['estimator'], cc_validation, cc_label_validation, cv=10, scoring='r2' )\n",
    "    print(\" %s Accuracy: %0.2f (+/- %0.2f)\" % (model['name'], scores.mean(), scores.std() * 2))"
   ]
  },
  {
   "cell_type": "markdown",
   "metadata": {},
   "source": [
    "Evaluating different models based on MSE"
   ]
  },
  {
   "cell_type": "code",
   "execution_count": 27,
   "metadata": {
    "collapsed": false
   },
   "outputs": [
    {
     "name": "stderr",
     "output_type": "stream",
     "text": [
      "/home/deacuna/anaconda3/lib/python3.5/site-packages/sklearn/metrics/scorer.py:90: DeprecationWarning: Scoring method mean_squared_error was renamed to neg_mean_squared_error in version 0.18 and will be removed in 0.20.\n",
      "  sample_weight=sample_weight)\n",
      "/home/deacuna/anaconda3/lib/python3.5/site-packages/sklearn/metrics/scorer.py:90: DeprecationWarning: Scoring method mean_squared_error was renamed to neg_mean_squared_error in version 0.18 and will be removed in 0.20.\n",
      "  sample_weight=sample_weight)\n",
      "/home/deacuna/anaconda3/lib/python3.5/site-packages/sklearn/metrics/scorer.py:90: DeprecationWarning: Scoring method mean_squared_error was renamed to neg_mean_squared_error in version 0.18 and will be removed in 0.20.\n",
      "  sample_weight=sample_weight)\n",
      "/home/deacuna/anaconda3/lib/python3.5/site-packages/sklearn/metrics/scorer.py:90: DeprecationWarning: Scoring method mean_squared_error was renamed to neg_mean_squared_error in version 0.18 and will be removed in 0.20.\n",
      "  sample_weight=sample_weight)\n",
      "/home/deacuna/anaconda3/lib/python3.5/site-packages/sklearn/metrics/scorer.py:90: DeprecationWarning: Scoring method mean_squared_error was renamed to neg_mean_squared_error in version 0.18 and will be removed in 0.20.\n",
      "  sample_weight=sample_weight)\n",
      "/home/deacuna/anaconda3/lib/python3.5/site-packages/sklearn/metrics/scorer.py:90: DeprecationWarning: Scoring method mean_squared_error was renamed to neg_mean_squared_error in version 0.18 and will be removed in 0.20.\n",
      "  sample_weight=sample_weight)\n",
      "/home/deacuna/anaconda3/lib/python3.5/site-packages/sklearn/metrics/scorer.py:90: DeprecationWarning: Scoring method mean_squared_error was renamed to neg_mean_squared_error in version 0.18 and will be removed in 0.20.\n",
      "  sample_weight=sample_weight)\n",
      "/home/deacuna/anaconda3/lib/python3.5/site-packages/sklearn/metrics/scorer.py:90: DeprecationWarning: Scoring method mean_squared_error was renamed to neg_mean_squared_error in version 0.18 and will be removed in 0.20.\n",
      "  sample_weight=sample_weight)\n",
      "/home/deacuna/anaconda3/lib/python3.5/site-packages/sklearn/metrics/scorer.py:90: DeprecationWarning: Scoring method mean_squared_error was renamed to neg_mean_squared_error in version 0.18 and will be removed in 0.20.\n",
      "  sample_weight=sample_weight)\n",
      "/home/deacuna/anaconda3/lib/python3.5/site-packages/sklearn/metrics/scorer.py:90: DeprecationWarning: Scoring method mean_squared_error was renamed to neg_mean_squared_error in version 0.18 and will be removed in 0.20.\n",
      "  sample_weight=sample_weight)\n",
      "/home/deacuna/anaconda3/lib/python3.5/site-packages/sklearn/metrics/scorer.py:90: DeprecationWarning: Scoring method mean_squared_error was renamed to neg_mean_squared_error in version 0.18 and will be removed in 0.20.\n",
      "  sample_weight=sample_weight)\n",
      "/home/deacuna/anaconda3/lib/python3.5/site-packages/sklearn/metrics/scorer.py:90: DeprecationWarning: Scoring method mean_squared_error was renamed to neg_mean_squared_error in version 0.18 and will be removed in 0.20.\n",
      "  sample_weight=sample_weight)\n",
      "/home/deacuna/anaconda3/lib/python3.5/site-packages/sklearn/metrics/scorer.py:90: DeprecationWarning: Scoring method mean_squared_error was renamed to neg_mean_squared_error in version 0.18 and will be removed in 0.20.\n",
      "  sample_weight=sample_weight)\n",
      "/home/deacuna/anaconda3/lib/python3.5/site-packages/sklearn/metrics/scorer.py:90: DeprecationWarning: Scoring method mean_squared_error was renamed to neg_mean_squared_error in version 0.18 and will be removed in 0.20.\n",
      "  sample_weight=sample_weight)\n"
     ]
    },
    {
     "name": "stdout",
     "output_type": "stream",
     "text": [
      " 3-Nearest Neighbors MSE: -0.21 (+/- 0.03)\n"
     ]
    },
    {
     "name": "stderr",
     "output_type": "stream",
     "text": [
      "/home/deacuna/anaconda3/lib/python3.5/site-packages/sklearn/metrics/scorer.py:90: DeprecationWarning: Scoring method mean_squared_error was renamed to neg_mean_squared_error in version 0.18 and will be removed in 0.20.\n",
      "  sample_weight=sample_weight)\n",
      "/home/deacuna/anaconda3/lib/python3.5/site-packages/sklearn/metrics/scorer.py:90: DeprecationWarning: Scoring method mean_squared_error was renamed to neg_mean_squared_error in version 0.18 and will be removed in 0.20.\n",
      "  sample_weight=sample_weight)\n",
      "/home/deacuna/anaconda3/lib/python3.5/site-packages/sklearn/metrics/scorer.py:90: DeprecationWarning: Scoring method mean_squared_error was renamed to neg_mean_squared_error in version 0.18 and will be removed in 0.20.\n",
      "  sample_weight=sample_weight)\n",
      "/home/deacuna/anaconda3/lib/python3.5/site-packages/sklearn/metrics/scorer.py:90: DeprecationWarning: Scoring method mean_squared_error was renamed to neg_mean_squared_error in version 0.18 and will be removed in 0.20.\n",
      "  sample_weight=sample_weight)\n",
      "/home/deacuna/anaconda3/lib/python3.5/site-packages/sklearn/metrics/scorer.py:90: DeprecationWarning: Scoring method mean_squared_error was renamed to neg_mean_squared_error in version 0.18 and will be removed in 0.20.\n",
      "  sample_weight=sample_weight)\n",
      "/home/deacuna/anaconda3/lib/python3.5/site-packages/sklearn/metrics/scorer.py:90: DeprecationWarning: Scoring method mean_squared_error was renamed to neg_mean_squared_error in version 0.18 and will be removed in 0.20.\n",
      "  sample_weight=sample_weight)\n",
      "/home/deacuna/anaconda3/lib/python3.5/site-packages/sklearn/metrics/scorer.py:90: DeprecationWarning: Scoring method mean_squared_error was renamed to neg_mean_squared_error in version 0.18 and will be removed in 0.20.\n",
      "  sample_weight=sample_weight)\n"
     ]
    },
    {
     "name": "stdout",
     "output_type": "stream",
     "text": [
      " 5-Nearest Neighbors MSE: -0.19 (+/- 0.02)\n"
     ]
    },
    {
     "name": "stderr",
     "output_type": "stream",
     "text": [
      "/home/deacuna/anaconda3/lib/python3.5/site-packages/sklearn/metrics/scorer.py:90: DeprecationWarning: Scoring method mean_squared_error was renamed to neg_mean_squared_error in version 0.18 and will be removed in 0.20.\n",
      "  sample_weight=sample_weight)\n",
      "/home/deacuna/anaconda3/lib/python3.5/site-packages/sklearn/metrics/scorer.py:90: DeprecationWarning: Scoring method mean_squared_error was renamed to neg_mean_squared_error in version 0.18 and will be removed in 0.20.\n",
      "  sample_weight=sample_weight)\n",
      "/home/deacuna/anaconda3/lib/python3.5/site-packages/sklearn/metrics/scorer.py:90: DeprecationWarning: Scoring method mean_squared_error was renamed to neg_mean_squared_error in version 0.18 and will be removed in 0.20.\n",
      "  sample_weight=sample_weight)\n",
      "/home/deacuna/anaconda3/lib/python3.5/site-packages/sklearn/metrics/scorer.py:90: DeprecationWarning: Scoring method mean_squared_error was renamed to neg_mean_squared_error in version 0.18 and will be removed in 0.20.\n",
      "  sample_weight=sample_weight)\n",
      "/home/deacuna/anaconda3/lib/python3.5/site-packages/sklearn/metrics/scorer.py:90: DeprecationWarning: Scoring method mean_squared_error was renamed to neg_mean_squared_error in version 0.18 and will be removed in 0.20.\n",
      "  sample_weight=sample_weight)\n",
      "/home/deacuna/anaconda3/lib/python3.5/site-packages/sklearn/metrics/scorer.py:90: DeprecationWarning: Scoring method mean_squared_error was renamed to neg_mean_squared_error in version 0.18 and will be removed in 0.20.\n",
      "  sample_weight=sample_weight)\n",
      "/home/deacuna/anaconda3/lib/python3.5/site-packages/sklearn/metrics/scorer.py:90: DeprecationWarning: Scoring method mean_squared_error was renamed to neg_mean_squared_error in version 0.18 and will be removed in 0.20.\n",
      "  sample_weight=sample_weight)\n",
      "/home/deacuna/anaconda3/lib/python3.5/site-packages/sklearn/metrics/scorer.py:90: DeprecationWarning: Scoring method mean_squared_error was renamed to neg_mean_squared_error in version 0.18 and will be removed in 0.20.\n",
      "  sample_weight=sample_weight)\n",
      "/home/deacuna/anaconda3/lib/python3.5/site-packages/sklearn/metrics/scorer.py:90: DeprecationWarning: Scoring method mean_squared_error was renamed to neg_mean_squared_error in version 0.18 and will be removed in 0.20.\n",
      "  sample_weight=sample_weight)\n",
      "/home/deacuna/anaconda3/lib/python3.5/site-packages/sklearn/metrics/scorer.py:90: DeprecationWarning: Scoring method mean_squared_error was renamed to neg_mean_squared_error in version 0.18 and will be removed in 0.20.\n",
      "  sample_weight=sample_weight)\n",
      "/home/deacuna/anaconda3/lib/python3.5/site-packages/sklearn/metrics/scorer.py:90: DeprecationWarning: Scoring method mean_squared_error was renamed to neg_mean_squared_error in version 0.18 and will be removed in 0.20.\n",
      "  sample_weight=sample_weight)\n",
      "/home/deacuna/anaconda3/lib/python3.5/site-packages/sklearn/metrics/scorer.py:90: DeprecationWarning: Scoring method mean_squared_error was renamed to neg_mean_squared_error in version 0.18 and will be removed in 0.20.\n",
      "  sample_weight=sample_weight)\n"
     ]
    },
    {
     "name": "stdout",
     "output_type": "stream",
     "text": [
      " 7-Nearest Neighbors MSE: -0.18 (+/- 0.02)\n"
     ]
    },
    {
     "name": "stderr",
     "output_type": "stream",
     "text": [
      "/home/deacuna/anaconda3/lib/python3.5/site-packages/sklearn/metrics/scorer.py:90: DeprecationWarning: Scoring method mean_squared_error was renamed to neg_mean_squared_error in version 0.18 and will be removed in 0.20.\n",
      "  sample_weight=sample_weight)\n",
      "/home/deacuna/anaconda3/lib/python3.5/site-packages/sklearn/metrics/scorer.py:90: DeprecationWarning: Scoring method mean_squared_error was renamed to neg_mean_squared_error in version 0.18 and will be removed in 0.20.\n",
      "  sample_weight=sample_weight)\n",
      "/home/deacuna/anaconda3/lib/python3.5/site-packages/sklearn/metrics/scorer.py:90: DeprecationWarning: Scoring method mean_squared_error was renamed to neg_mean_squared_error in version 0.18 and will be removed in 0.20.\n",
      "  sample_weight=sample_weight)\n",
      "/home/deacuna/anaconda3/lib/python3.5/site-packages/sklearn/metrics/scorer.py:90: DeprecationWarning: Scoring method mean_squared_error was renamed to neg_mean_squared_error in version 0.18 and will be removed in 0.20.\n",
      "  sample_weight=sample_weight)\n",
      "/home/deacuna/anaconda3/lib/python3.5/site-packages/sklearn/metrics/scorer.py:90: DeprecationWarning: Scoring method mean_squared_error was renamed to neg_mean_squared_error in version 0.18 and will be removed in 0.20.\n",
      "  sample_weight=sample_weight)\n",
      "/home/deacuna/anaconda3/lib/python3.5/site-packages/sklearn/metrics/scorer.py:90: DeprecationWarning: Scoring method mean_squared_error was renamed to neg_mean_squared_error in version 0.18 and will be removed in 0.20.\n",
      "  sample_weight=sample_weight)\n",
      "/home/deacuna/anaconda3/lib/python3.5/site-packages/sklearn/metrics/scorer.py:90: DeprecationWarning: Scoring method mean_squared_error was renamed to neg_mean_squared_error in version 0.18 and will be removed in 0.20.\n",
      "  sample_weight=sample_weight)\n",
      "/home/deacuna/anaconda3/lib/python3.5/site-packages/sklearn/metrics/scorer.py:90: DeprecationWarning: Scoring method mean_squared_error was renamed to neg_mean_squared_error in version 0.18 and will be removed in 0.20.\n",
      "  sample_weight=sample_weight)\n"
     ]
    },
    {
     "name": "stdout",
     "output_type": "stream",
     "text": [
      " 9-Nearest Neighbors MSE: -0.18 (+/- 0.02)\n"
     ]
    },
    {
     "name": "stderr",
     "output_type": "stream",
     "text": [
      "/home/deacuna/anaconda3/lib/python3.5/site-packages/sklearn/metrics/scorer.py:90: DeprecationWarning: Scoring method mean_squared_error was renamed to neg_mean_squared_error in version 0.18 and will be removed in 0.20.\n",
      "  sample_weight=sample_weight)\n",
      "/home/deacuna/anaconda3/lib/python3.5/site-packages/sklearn/metrics/scorer.py:90: DeprecationWarning: Scoring method mean_squared_error was renamed to neg_mean_squared_error in version 0.18 and will be removed in 0.20.\n",
      "  sample_weight=sample_weight)\n",
      "/home/deacuna/anaconda3/lib/python3.5/site-packages/sklearn/metrics/scorer.py:90: DeprecationWarning: Scoring method mean_squared_error was renamed to neg_mean_squared_error in version 0.18 and will be removed in 0.20.\n",
      "  sample_weight=sample_weight)\n",
      "/home/deacuna/anaconda3/lib/python3.5/site-packages/sklearn/metrics/scorer.py:90: DeprecationWarning: Scoring method mean_squared_error was renamed to neg_mean_squared_error in version 0.18 and will be removed in 0.20.\n",
      "  sample_weight=sample_weight)\n",
      "/home/deacuna/anaconda3/lib/python3.5/site-packages/sklearn/metrics/scorer.py:90: DeprecationWarning: Scoring method mean_squared_error was renamed to neg_mean_squared_error in version 0.18 and will be removed in 0.20.\n",
      "  sample_weight=sample_weight)\n",
      "/home/deacuna/anaconda3/lib/python3.5/site-packages/sklearn/metrics/scorer.py:90: DeprecationWarning: Scoring method mean_squared_error was renamed to neg_mean_squared_error in version 0.18 and will be removed in 0.20.\n",
      "  sample_weight=sample_weight)\n",
      "/home/deacuna/anaconda3/lib/python3.5/site-packages/sklearn/metrics/scorer.py:90: DeprecationWarning: Scoring method mean_squared_error was renamed to neg_mean_squared_error in version 0.18 and will be removed in 0.20.\n",
      "  sample_weight=sample_weight)\n",
      "/home/deacuna/anaconda3/lib/python3.5/site-packages/sklearn/metrics/scorer.py:90: DeprecationWarning: Scoring method mean_squared_error was renamed to neg_mean_squared_error in version 0.18 and will be removed in 0.20.\n",
      "  sample_weight=sample_weight)\n",
      "/home/deacuna/anaconda3/lib/python3.5/site-packages/sklearn/metrics/scorer.py:90: DeprecationWarning: Scoring method mean_squared_error was renamed to neg_mean_squared_error in version 0.18 and will be removed in 0.20.\n",
      "  sample_weight=sample_weight)\n",
      "/home/deacuna/anaconda3/lib/python3.5/site-packages/sklearn/metrics/scorer.py:90: DeprecationWarning: Scoring method mean_squared_error was renamed to neg_mean_squared_error in version 0.18 and will be removed in 0.20.\n",
      "  sample_weight=sample_weight)\n",
      "/home/deacuna/anaconda3/lib/python3.5/site-packages/sklearn/metrics/scorer.py:90: DeprecationWarning: Scoring method mean_squared_error was renamed to neg_mean_squared_error in version 0.18 and will be removed in 0.20.\n",
      "  sample_weight=sample_weight)\n",
      "/home/deacuna/anaconda3/lib/python3.5/site-packages/sklearn/metrics/scorer.py:90: DeprecationWarning: Scoring method mean_squared_error was renamed to neg_mean_squared_error in version 0.18 and will be removed in 0.20.\n",
      "  sample_weight=sample_weight)\n",
      "/home/deacuna/anaconda3/lib/python3.5/site-packages/sklearn/metrics/scorer.py:90: DeprecationWarning: Scoring method mean_squared_error was renamed to neg_mean_squared_error in version 0.18 and will be removed in 0.20.\n",
      "  sample_weight=sample_weight)\n",
      "/home/deacuna/anaconda3/lib/python3.5/site-packages/sklearn/metrics/scorer.py:90: DeprecationWarning: Scoring method mean_squared_error was renamed to neg_mean_squared_error in version 0.18 and will be removed in 0.20.\n",
      "  sample_weight=sample_weight)\n",
      "/home/deacuna/anaconda3/lib/python3.5/site-packages/sklearn/metrics/scorer.py:90: DeprecationWarning: Scoring method mean_squared_error was renamed to neg_mean_squared_error in version 0.18 and will be removed in 0.20.\n",
      "  sample_weight=sample_weight)\n",
      "/home/deacuna/anaconda3/lib/python3.5/site-packages/sklearn/metrics/scorer.py:90: DeprecationWarning: Scoring method mean_squared_error was renamed to neg_mean_squared_error in version 0.18 and will be removed in 0.20.\n",
      "  sample_weight=sample_weight)\n",
      "/home/deacuna/anaconda3/lib/python3.5/site-packages/sklearn/metrics/scorer.py:90: DeprecationWarning: Scoring method mean_squared_error was renamed to neg_mean_squared_error in version 0.18 and will be removed in 0.20.\n",
      "  sample_weight=sample_weight)\n",
      "/home/deacuna/anaconda3/lib/python3.5/site-packages/sklearn/metrics/scorer.py:90: DeprecationWarning: Scoring method mean_squared_error was renamed to neg_mean_squared_error in version 0.18 and will be removed in 0.20.\n",
      "  sample_weight=sample_weight)\n",
      "/home/deacuna/anaconda3/lib/python3.5/site-packages/sklearn/metrics/scorer.py:90: DeprecationWarning: Scoring method mean_squared_error was renamed to neg_mean_squared_error in version 0.18 and will be removed in 0.20.\n",
      "  sample_weight=sample_weight)\n"
     ]
    },
    {
     "name": "stdout",
     "output_type": "stream",
     "text": [
      " KMeans 2 clusters MSE: -0.46 (+/- 0.38)\n",
      " KMeans 2 Clusters init MSE: -0.43 (+/- 0.37)\n"
     ]
    },
    {
     "name": "stderr",
     "output_type": "stream",
     "text": [
      "/home/deacuna/anaconda3/lib/python3.5/site-packages/sklearn/metrics/scorer.py:90: DeprecationWarning: Scoring method mean_squared_error was renamed to neg_mean_squared_error in version 0.18 and will be removed in 0.20.\n",
      "  sample_weight=sample_weight)\n",
      "/home/deacuna/anaconda3/lib/python3.5/site-packages/sklearn/metrics/scorer.py:90: DeprecationWarning: Scoring method mean_squared_error was renamed to neg_mean_squared_error in version 0.18 and will be removed in 0.20.\n",
      "  sample_weight=sample_weight)\n",
      "/home/deacuna/anaconda3/lib/python3.5/site-packages/sklearn/metrics/scorer.py:90: DeprecationWarning: Scoring method mean_squared_error was renamed to neg_mean_squared_error in version 0.18 and will be removed in 0.20.\n",
      "  sample_weight=sample_weight)\n",
      "/home/deacuna/anaconda3/lib/python3.5/site-packages/sklearn/metrics/scorer.py:90: DeprecationWarning: Scoring method mean_squared_error was renamed to neg_mean_squared_error in version 0.18 and will be removed in 0.20.\n",
      "  sample_weight=sample_weight)\n",
      "/home/deacuna/anaconda3/lib/python3.5/site-packages/sklearn/metrics/scorer.py:90: DeprecationWarning: Scoring method mean_squared_error was renamed to neg_mean_squared_error in version 0.18 and will be removed in 0.20.\n",
      "  sample_weight=sample_weight)\n",
      "/home/deacuna/anaconda3/lib/python3.5/site-packages/sklearn/metrics/scorer.py:90: DeprecationWarning: Scoring method mean_squared_error was renamed to neg_mean_squared_error in version 0.18 and will be removed in 0.20.\n",
      "  sample_weight=sample_weight)\n",
      "/home/deacuna/anaconda3/lib/python3.5/site-packages/sklearn/metrics/scorer.py:90: DeprecationWarning: Scoring method mean_squared_error was renamed to neg_mean_squared_error in version 0.18 and will be removed in 0.20.\n",
      "  sample_weight=sample_weight)\n",
      "/home/deacuna/anaconda3/lib/python3.5/site-packages/sklearn/metrics/scorer.py:90: DeprecationWarning: Scoring method mean_squared_error was renamed to neg_mean_squared_error in version 0.18 and will be removed in 0.20.\n",
      "  sample_weight=sample_weight)\n",
      "/home/deacuna/anaconda3/lib/python3.5/site-packages/sklearn/metrics/scorer.py:90: DeprecationWarning: Scoring method mean_squared_error was renamed to neg_mean_squared_error in version 0.18 and will be removed in 0.20.\n",
      "  sample_weight=sample_weight)\n"
     ]
    },
    {
     "name": "stdout",
     "output_type": "stream",
     "text": [
      " Random Forest MSE: -0.15 (+/- 0.04)\n"
     ]
    },
    {
     "name": "stderr",
     "output_type": "stream",
     "text": [
      "/home/deacuna/anaconda3/lib/python3.5/site-packages/sklearn/metrics/scorer.py:90: DeprecationWarning: Scoring method mean_squared_error was renamed to neg_mean_squared_error in version 0.18 and will be removed in 0.20.\n",
      "  sample_weight=sample_weight)\n"
     ]
    }
   ],
   "source": [
    "#Model evaluation based on MSE\n",
    "for model in models:\n",
    "    scores = cross_val_score(model['estimator'], cc_validation, cc_label_validation, cv=10, scoring='mean_squared_error' )\n",
    "    print(\" %s MSE: %0.2f (+/- %0.2f)\" % (model['name'], scores.mean(), scores.std() * 2))"
   ]
  },
  {
   "cell_type": "code",
   "execution_count": 28,
   "metadata": {
    "collapsed": true
   },
   "outputs": [],
   "source": [
    "all_mse = []"
   ]
  },
  {
   "cell_type": "code",
   "execution_count": 29,
   "metadata": {
    "collapsed": false
   },
   "outputs": [],
   "source": [
    "linear_model = LinearRegression().fit(cc_train.iloc[:, list(current_model_vars)], cc_label_train)\n",
    "MSE =((linear_model.predict(cc_test.iloc[:, list(current_model_vars)]) - cc_label_test)**2).mean()[0]\n",
    "all_mse.append(MSE)"
   ]
  },
  {
   "cell_type": "markdown",
   "metadata": {},
   "source": [
    "Evaluating Naive Bayes, SVM models based on MSE"
   ]
  },
  {
   "cell_type": "code",
   "execution_count": 30,
   "metadata": {
    "collapsed": false
   },
   "outputs": [
    {
     "name": "stdout",
     "output_type": "stream",
     "text": [
      "Mean square error for Guassian NB model is 0.41\n"
     ]
    }
   ],
   "source": [
    "#Guassian Naive Bayes\n",
    "gnb_model = gnb.fit(cc1_train, cc_label1_train)\n",
    "cc_target  = gnb_model.predict(cc1_test)\n",
    "MSE = ((gnb_model.predict(cc1_test) - cc_label1_test)**2).mean()\n",
    "#Series(cc_target)\n",
    "#print(\"Number of mislabeled points out of a total %d points : %d\" % (cc_features.shape[0],(cc_label_test != cc_target).sum()))\n",
    "print(\"Mean square error for Guassian NB model is %.2f\" % MSE)\n",
    "all_mse.append(MSE)"
   ]
  },
  {
   "cell_type": "code",
   "execution_count": 31,
   "metadata": {
    "collapsed": false
   },
   "outputs": [
    {
     "name": "stdout",
     "output_type": "stream",
     "text": [
      "Mean square error for Linear SVM model is 0.29\n"
     ]
    }
   ],
   "source": [
    "#Linear SVM\n",
    "linearSVM_model = clf.fit(cc1_train, cc_label1_train)\n",
    "MSE = ((linearSVM_model.predict(cc1_test) - cc_label1_test)**2).mean()\n",
    "print(\"Mean square error for Linear SVM model is %.2f\" % MSE)\n",
    "all_mse.append(MSE)"
   ]
  },
  {
   "cell_type": "code",
   "execution_count": 32,
   "metadata": {
    "collapsed": false
   },
   "outputs": [
    {
     "name": "stdout",
     "output_type": "stream",
     "text": [
      "Mean square error for SVM model is 0.29\n"
     ]
    },
    {
     "data": {
      "text/plain": [
       "[0.14679280736476286,\n",
       " 0.41466666666666668,\n",
       " 0.28613333333333335,\n",
       " 0.29128888888888887]"
      ]
     },
     "execution_count": 32,
     "metadata": {},
     "output_type": "execute_result"
    }
   ],
   "source": [
    "#SVM\n",
    "clf1 = svm.SVC()\n",
    "SVM_model = clf1.fit(cc1_train, cc_label1_train)\n",
    "MSE = ((SVM_model.predict(cc1_test) - cc_label1_test)**2).mean()\n",
    "print(\"Mean square error for SVM model is %.2f\" % MSE)\n",
    "all_mse.append(MSE)\n",
    "all_mse"
   ]
  },
  {
   "cell_type": "code",
   "execution_count": 33,
   "metadata": {
    "collapsed": false
   },
   "outputs": [
    {
     "data": {
      "text/html": [
       "<div>\n",
       "<table border=\"1\" class=\"dataframe\">\n",
       "  <thead>\n",
       "    <tr style=\"text-align: right;\">\n",
       "      <th></th>\n",
       "      <th>0</th>\n",
       "      <th>1</th>\n",
       "    </tr>\n",
       "  </thead>\n",
       "  <tbody>\n",
       "    <tr>\n",
       "      <th>0</th>\n",
       "      <td>Linear</td>\n",
       "      <td>0.146793</td>\n",
       "    </tr>\n",
       "    <tr>\n",
       "      <th>1</th>\n",
       "      <td>Guassian NB</td>\n",
       "      <td>0.414667</td>\n",
       "    </tr>\n",
       "    <tr>\n",
       "      <th>2</th>\n",
       "      <td>Linear SVM</td>\n",
       "      <td>0.286133</td>\n",
       "    </tr>\n",
       "    <tr>\n",
       "      <th>3</th>\n",
       "      <td>SVM</td>\n",
       "      <td>0.291289</td>\n",
       "    </tr>\n",
       "  </tbody>\n",
       "</table>\n",
       "</div>"
      ],
      "text/plain": [
       "             0         1\n",
       "0       Linear  0.146793\n",
       "1  Guassian NB  0.414667\n",
       "2   Linear SVM  0.286133\n",
       "3          SVM  0.291289"
      ]
     },
     "execution_count": 33,
     "metadata": {},
     "output_type": "execute_result"
    }
   ],
   "source": [
    "model_array = ['Linear', 'Guassian NB','Linear SVM','SVM']\n",
    "tup = (model_array,all_mse)\n",
    "#tup_df = pd.DataFrame(tup,columns = ['Model','MSE'])\n",
    "tup_df = pd.concat((pd.Series(model_array), pd.Series(all_mse)), axis=1)\n",
    "tup_df"
   ]
  },
  {
   "cell_type": "code",
   "execution_count": 34,
   "metadata": {
    "collapsed": false
   },
   "outputs": [
    {
     "data": {
      "image/png": "[encoded data removed]",
      "text/plain": [
       "<matplotlib.figure.Figure at 0x7efe4a08c8d0>"
      ]
     },
     "metadata": {},
     "output_type": "display_data"
    }
   ],
   "source": [
    "import pylab\n",
    "pylab.figure(1)\n",
    "x = range(4)\n",
    "pylab.xticks(x, tup_df[0])\n",
    "pylab.plot(x,tup_df[1],\"g\")\n",
    "pylab.show()"
   ]
  },
  {
   "cell_type": "markdown",
   "metadata": {},
   "source": [
    "Select Linear SVM as its MSE is lowest and predicting the values"
   ]
  },
  {
   "cell_type": "code",
   "execution_count": 35,
   "metadata": {
    "collapsed": false
   },
   "outputs": [
    {
     "data": {
      "text/html": [
       "<div>\n",
       "<table border=\"1\" class=\"dataframe\">\n",
       "  <thead>\n",
       "    <tr style=\"text-align: right;\">\n",
       "      <th></th>\n",
       "      <th>Target</th>\n",
       "    </tr>\n",
       "  </thead>\n",
       "  <tbody>\n",
       "    <tr>\n",
       "      <th>0</th>\n",
       "      <td>0</td>\n",
       "    </tr>\n",
       "    <tr>\n",
       "      <th>1</th>\n",
       "      <td>0</td>\n",
       "    </tr>\n",
       "    <tr>\n",
       "      <th>2</th>\n",
       "      <td>0</td>\n",
       "    </tr>\n",
       "    <tr>\n",
       "      <th>3</th>\n",
       "      <td>0</td>\n",
       "    </tr>\n",
       "    <tr>\n",
       "      <th>4</th>\n",
       "      <td>0</td>\n",
       "    </tr>\n",
       "  </tbody>\n",
       "</table>\n",
       "</div>"
      ],
      "text/plain": [
       "   Target\n",
       "0       0\n",
       "1       0\n",
       "2       0\n",
       "3       0\n",
       "4       0"
      ]
     },
     "execution_count": 35,
     "metadata": {},
     "output_type": "execute_result"
    }
   ],
   "source": [
    "cc_target = SVM_model.predict(cc1_test)\n",
    "cc_target_df = pd.DataFrame(cc_target,columns = ['Target'])\n",
    "cc_target_df.head(5)"
   ]
  },
  {
   "cell_type": "code",
   "execution_count": 36,
   "metadata": {
    "collapsed": false
   },
   "outputs": [
    {
     "data": {
      "text/html": [
       "<div>\n",
       "<table border=\"1\" class=\"dataframe\">\n",
       "  <thead>\n",
       "    <tr style=\"text-align: right;\">\n",
       "      <th></th>\n",
       "      <th>0</th>\n",
       "    </tr>\n",
       "  </thead>\n",
       "  <tbody>\n",
       "    <tr>\n",
       "      <th>0</th>\n",
       "      <td>0</td>\n",
       "    </tr>\n",
       "    <tr>\n",
       "      <th>1</th>\n",
       "      <td>0</td>\n",
       "    </tr>\n",
       "    <tr>\n",
       "      <th>2</th>\n",
       "      <td>0</td>\n",
       "    </tr>\n",
       "    <tr>\n",
       "      <th>3</th>\n",
       "      <td>0</td>\n",
       "    </tr>\n",
       "    <tr>\n",
       "      <th>4</th>\n",
       "      <td>0</td>\n",
       "    </tr>\n",
       "  </tbody>\n",
       "</table>\n",
       "</div>"
      ],
      "text/plain": [
       "   0\n",
       "0  0\n",
       "1  0\n",
       "2  0\n",
       "3  0\n",
       "4  0"
      ]
     },
     "execution_count": 36,
     "metadata": {},
     "output_type": "execute_result"
    }
   ],
   "source": [
    "pd.DataFrame(cc_label1_test).head(5)"
   ]
  }
 ],
 "metadata": {
  "anaconda-cloud": {},
  "kernelspec": {
   "display_name": "Python [Root]",
   "language": "python",
   "name": "Python [Root]"
  },
  "language_info": {
   "codemirror_mode": {
    "name": "ipython",
    "version": 3
   },
   "file_extension": ".py",
   "mimetype": "text/x-python",
   "name": "python",
   "nbconvert_exporter": "python",
   "pygments_lexer": "ipython3",
   "version": "3.5.2"
  }
 },
 "nbformat": 4,
 "nbformat_minor": 1
}
